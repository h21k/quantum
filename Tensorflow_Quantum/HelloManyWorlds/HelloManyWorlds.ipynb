{
  "nbformat": 4,
  "nbformat_minor": 0,
  "metadata": {
    "colab": {
      "name": "HelloManyWorlds.ipynb",
      "provenance": []
    },
    "kernelspec": {
      "name": "python3",
      "display_name": "Python 3"
    }
  },
  "cells": [
    {
      "cell_type": "markdown",
      "metadata": {
        "id": "ocoOc_c1F2z9"
      },
      "source": [
        "# TensorFlow Quantum Tutorial 1\n",
        "\n",
        "This tutorial shows how a classical neural network can learn to correct qubit calibration errors. It introduces Cirq, a Python framework to create, edit, and invoke Noisy Intermediate Scale Quantum (NISQ) circuits, and demonstrates how Cirq interfaces with TensorFlow Quantum."
      ]
    },
    {
      "cell_type": "code",
      "metadata": {
        "id": "byFZouc2wZqK"
      },
      "source": [
        "# There may be some errors here - if that happens run it again until it works....or not\n",
        "!pip install -q tensorflow==2.3.1"
      ],
      "execution_count": null,
      "outputs": []
    },
    {
      "cell_type": "code",
      "metadata": {
        "colab": {
          "base_uri": "https://localhost:8080/"
        },
        "id": "v-QRGRCtwbBl",
        "outputId": "9d5162f0-f610-4d04-c5ea-ce50131364bb"
      },
      "source": [
        "!pip install -q tensorflow-quantum"
      ],
      "execution_count": null,
      "outputs": [
        {
          "output_type": "stream",
          "text": [
            "\u001b[K     |████████████████████████████████| 5.9MB 10.2MB/s \n",
            "\u001b[K     |████████████████████████████████| 5.6MB 42.6MB/s \n",
            "\u001b[K     |████████████████████████████████| 1.6MB 53.3MB/s \n",
            "\u001b[?25h"
          ],
          "name": "stdout"
        }
      ]
    },
    {
      "cell_type": "code",
      "metadata": {
        "id": "YrUT4u9U5mpa"
      },
      "source": [
        "import tensorflow as tf\n",
        "import tensorflow_quantum as tfq\n",
        "\n",
        "import cirq\n",
        "import sympy\n",
        "import numpy as np"
      ],
      "execution_count": null,
      "outputs": []
    },
    {
      "cell_type": "code",
      "metadata": {
        "id": "kn8Zl2N15uUK"
      },
      "source": [
        "!python -c \"import tensorflow as tf; print(tf.version.GIT_VERSION, tf.version.VERSION)\""
      ],
      "execution_count": null,
      "outputs": []
    },
    {
      "cell_type": "code",
      "metadata": {
        "id": "Tx3iUvDIF2Es"
      },
      "source": [
        ""
      ],
      "execution_count": null,
      "outputs": []
    }
  ]
}